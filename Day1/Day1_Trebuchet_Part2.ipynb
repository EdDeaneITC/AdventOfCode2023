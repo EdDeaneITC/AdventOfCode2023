{
 "cells": [
  {
   "cell_type": "code",
   "execution_count": 1,
   "id": "490a280e",
   "metadata": {},
   "outputs": [
    {
     "name": "stdout",
     "output_type": "stream",
     "text": [
      "two1nine\n",
      "eightwothree\n",
      "abcone2threexyz\n",
      "xtwone3four\n",
      "4nineeightseven2\n",
      "zoneight234\n",
      "7pqrstsixteen\n"
     ]
    },
    {
     "data": {
      "text/plain": [
       "['two1nine',\n",
       " 'eightwothree',\n",
       " 'abcone2threexyz',\n",
       " 'xtwone3four',\n",
       " '4nineeightseven2',\n",
       " 'zoneight234',\n",
       " '7pqrstsixteen']"
      ]
     },
     "execution_count": 1,
     "metadata": {},
     "output_type": "execute_result"
    }
   ],
   "source": [
    "from neo4j import GraphDatabase\n",
    "import re\n",
    "advent = \"Day1\"\n",
    "workdir = 'C:\\\\Users\\\\ed.deane\\\\OneDrive - Sabio Ltd\\\\Documents\\\\Customers\\\\IKEA\\\\Knowledge\\\\Python\\\\AdventOfCode\\\\2023\\\\'\n",
    "\n",
    "f = open(workdir+advent+\"\\\\test_input_part2.txt\", \"r\")\n",
    "listOfCalibrationValues = []\n",
    "for line in f:\n",
    "    line = line.strip()\n",
    "    print (line)\n",
    "    listOfCalibrationValues.append(line)\n",
    "\n",
    "listOfCalibrationValues"
   ]
  },
  {
   "cell_type": "code",
   "execution_count": 2,
   "id": "fb589dce",
   "metadata": {},
   "outputs": [
    {
     "name": "stderr",
     "output_type": "stream",
     "text": [
      "C:\\Users\\ed.deane\\AppData\\Local\\Temp\\ipykernel_3184\\170366737.py:23: DeprecationWarning: write_transaction has been renamed to execute_write\n",
      "  session.write_transaction(create_node, str(index), value)\n"
     ]
    }
   ],
   "source": [
    "uri = \"bolt://localhost:7687\"\n",
    "username = \"neo4j\"\n",
    "password = \"advent_of_code\"\n",
    "# Cypher query to create a node with the index as the node name and value as the 'prop' property\n",
    "query_del = \"MATCH (n) DETACH DELETE n\"\n",
    "\n",
    "with GraphDatabase.driver(uri, auth=(username, password)) as driver:\n",
    "    with driver.session() as session:\n",
    "            session.run(query_del)\n",
    "\n",
    "query = \"CREATE (:line {name: $nodeName, calibration_value: $calibration_value})\"\n",
    "\n",
    "# Function to create nodes in Neo4j\n",
    "def create_node(tx, nodeName, calibration_value):\n",
    "    tx.run(query, nodeName=nodeName, calibration_value=calibration_value)\n",
    "\n",
    "# Connect to the Neo4j database\n",
    "with GraphDatabase.driver(uri, auth=(username, password)) as driver:\n",
    "    # Iterate through the list and create nodes\n",
    "    for index, value in enumerate(listOfCalibrationValues):\n",
    "        # Use a transaction to create each node\n",
    "        with driver.session() as session:\n",
    "            session.write_transaction(create_node, str(index), value)"
   ]
  },
  {
   "cell_type": "code",
   "execution_count": 3,
   "id": "85d5dabe",
   "metadata": {},
   "outputs": [],
   "source": [
    "ints = [(\"one\",1), (\"two\",2), (\"three\",3), (\"four\",4), (\"five\",5), (\"six\",6), (\"seven\",7), (\"eight\",8),(\"nine\",9)]\n",
    "\n",
    "query_num = \"CREATE (:number {name: $nodeName, nodeValue: $nodeValue})\"\n",
    "\n",
    "#add each int as a node \n",
    "with GraphDatabase.driver(uri, auth=(username, password)) as driver:\n",
    "    # Use a transaction to execute the query\n",
    "    for i in ints:\n",
    "        with driver.session() as session:\n",
    "            session.run(query_num, nodeName=i[0], nodeValue=i[1])\n",
    "        \n"
   ]
  },
  {
   "cell_type": "code",
   "execution_count": 4,
   "id": "d28041eb",
   "metadata": {},
   "outputs": [],
   "source": [
    "def findOccurrences(s, ch): \n",
    "    indexes = [x.start() for x in re.finditer(ch, s)]\n",
    "    return indexes\n",
    "\n",
    "# link up each line to the first and last numbers on it\n",
    "def get_all_numbers(cal_val):\n",
    "    # loop through each int and get each of its positions in the string\n",
    "    all_numbers = []\n",
    "    for i in ints:\n",
    "        all_ints = findOccurrences(cal_val,str(i[1]))\n",
    "        for j in all_ints:            \n",
    "            all_numbers.append((j,i[1]))\n",
    "        \n",
    "        #repeat for the strings\n",
    "        all_ints = findOccurrences(cal_val,i[0])\n",
    "        for j in all_ints:            \n",
    "            all_numbers.append((j,i[1]))\n",
    "    \n",
    "    # Put the results into a list where the position is first and the int is second\n",
    "    return (all_numbers)\n",
    "\n",
    "def get_first_last(st):\n",
    "    \n",
    "    all_nums_from_line = get_all_numbers(st)\n",
    "    \n",
    "    sorted_ls = sorted(all_nums_from_line, key=lambda x: x[0])\n",
    "    \n",
    "    if len(sorted_ls) == 0:\n",
    "        ret = 0\n",
    "    #elif len(sorted_ls) == 1:\n",
    "    #    ret = sorted_ls[0][1]\n",
    "    else:\n",
    "        ret = str(sorted_ls[0][1])+str(sorted_ls[-1][1])\n",
    "    \n",
    "    return int(ret)\n",
    "\n",
    "def get_num_in_words(num):\n",
    "    for i in ints:\n",
    "        if i[1] == num:\n",
    "            return i[0]\n",
    "\n",
    "def add_relationships (line, number, position):\n",
    "    \n",
    "    query_num = \"\"\"\n",
    "    MATCH (p:line {calibration_value: $nodeLine})\n",
    "    MATCH (c:number {name: $nodeNumber})\n",
    "    CREATE (p)-[:CONTAINS  {position:$position}]->(c)\n",
    "    \"\"\"\n",
    "\n",
    "    #add each int as a node \n",
    "    with GraphDatabase.driver(uri, auth=(username, password)) as driver:\n",
    "        with driver.session() as session:\n",
    "            session.run(query_num, nodeLine=line, nodeNumber=number, position=position)\n",
    "\n",
    "\n"
   ]
  },
  {
   "cell_type": "code",
   "execution_count": null,
   "id": "3ac3c970",
   "metadata": {},
   "outputs": [],
   "source": [
    "sum(list(map(get_first_last, listOfCalibrationValues)))"
   ]
  },
  {
   "cell_type": "code",
   "execution_count": 5,
   "id": "d3a7760f",
   "metadata": {},
   "outputs": [],
   "source": []
  },
  {
   "cell_type": "code",
   "execution_count": 20,
   "id": "12f626a4",
   "metadata": {},
   "outputs": [
    {
     "name": "stdout",
     "output_type": "stream",
     "text": [
      "two1nine 2 9\n"
     ]
    },
    {
     "ename": "TypeError",
     "evalue": "get_num_in_words() missing 1 required positional argument: 'num'",
     "output_type": "error",
     "traceback": [
      "\u001b[1;31m---------------------------------------------------------------------------\u001b[0m",
      "\u001b[1;31mTypeError\u001b[0m                                 Traceback (most recent call last)",
      "Cell \u001b[1;32mIn[20], line 4\u001b[0m\n\u001b[0;32m      2\u001b[0m first_last \u001b[38;5;241m=\u001b[39m \u001b[38;5;28mstr\u001b[39m(get_first_last(i))\n\u001b[0;32m      3\u001b[0m \u001b[38;5;28mprint\u001b[39m (i, first_last[\u001b[38;5;241m0\u001b[39m],first_last[\u001b[38;5;241m1\u001b[39m])\n\u001b[1;32m----> 4\u001b[0m add_relationships (i, get_num_in_words(), \u001b[38;5;241m23\u001b[39m)\n",
      "\u001b[1;31mTypeError\u001b[0m: get_num_in_words() missing 1 required positional argument: 'num'"
     ]
    }
   ],
   "source": [
    "for i in listOfCalibrationValues:\n",
    "    first_last = str(get_first_last(i))\n",
    "    print (i, first_last[0],first_last[1])\n",
    "    add_relationships (i, first_last[0], 23)"
   ]
  },
  {
   "cell_type": "code",
   "execution_count": 15,
   "id": "176c2160",
   "metadata": {},
   "outputs": [
    {
     "data": {
      "text/plain": [
       "'three'"
      ]
     },
     "execution_count": 15,
     "metadata": {},
     "output_type": "execute_result"
    }
   ],
   "source": []
  }
 ],
 "metadata": {
  "kernelspec": {
   "display_name": "Python 3 (ipykernel)",
   "language": "python",
   "name": "python3"
  },
  "language_info": {
   "codemirror_mode": {
    "name": "ipython",
    "version": 3
   },
   "file_extension": ".py",
   "mimetype": "text/x-python",
   "name": "python",
   "nbconvert_exporter": "python",
   "pygments_lexer": "ipython3",
   "version": "3.11.5"
  }
 },
 "nbformat": 4,
 "nbformat_minor": 5
}
