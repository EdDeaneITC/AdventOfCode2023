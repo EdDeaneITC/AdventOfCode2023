{
 "cells": [
  {
   "cell_type": "code",
   "execution_count": 1,
   "id": "490a280e",
   "metadata": {},
   "outputs": [
    {
     "name": "stdout",
     "output_type": "stream",
     "text": [
      "two1nine\n",
      "eightwothree\n",
      "abcone2threexyz\n",
      "xtwone3four\n",
      "4nineeightseven2\n",
      "zoneight234\n",
      "7pqrstsixteen\n"
     ]
    },
    {
     "data": {
      "text/plain": [
       "['two1nine',\n",
       " 'eightwothree',\n",
       " 'abcone2threexyz',\n",
       " 'xtwone3four',\n",
       " '4nineeightseven2',\n",
       " 'zoneight234',\n",
       " '7pqrstsixteen']"
      ]
     },
     "execution_count": 1,
     "metadata": {},
     "output_type": "execute_result"
    }
   ],
   "source": [
    "from neo4j import GraphDatabase\n",
    "import re\n",
    "advent = \"Day1\"\n",
    "workdir = 'C:\\\\Users\\\\ed.deane\\\\OneDrive - Sabio Ltd\\\\Documents\\\\Customers\\\\IKEA\\\\Knowledge\\\\Python\\\\AdventOfCode\\\\2023\\\\'\n",
    "\n",
    "f = open(workdir+advent+\"\\\\test_input_part2.txt\", \"r\")\n",
    "listOfCalibrationValues = []\n",
    "for line in f:\n",
    "    line = line.strip()\n",
    "    print (line)\n",
    "    listOfCalibrationValues.append(line)\n",
    "\n",
    "listOfCalibrationValues"
   ]
  },
  {
   "cell_type": "code",
   "execution_count": 2,
   "id": "fb589dce",
   "metadata": {},
   "outputs": [
    {
     "name": "stderr",
     "output_type": "stream",
     "text": [
      "C:\\Users\\ed.deane\\AppData\\Local\\Temp\\ipykernel_1536\\170366737.py:23: DeprecationWarning: write_transaction has been renamed to execute_write\n",
      "  session.write_transaction(create_node, str(index), value)\n"
     ]
    }
   ],
   "source": [
    "uri = \"bolt://localhost:7687\"\n",
    "username = \"neo4j\"\n",
    "password = \"advent_of_code\"\n",
    "# Cypher query to create a node with the index as the node name and value as the 'prop' property\n",
    "query_del = \"MATCH (n) DETACH DELETE n\"\n",
    "\n",
    "with GraphDatabase.driver(uri, auth=(username, password)) as driver:\n",
    "    with driver.session() as session:\n",
    "            session.run(query_del)\n",
    "\n",
    "query = \"CREATE (:line {name: $nodeName, calibration_value: $calibration_value})\"\n",
    "\n",
    "# Function to create nodes in Neo4j\n",
    "def create_node(tx, nodeName, calibration_value):\n",
    "    tx.run(query, nodeName=nodeName, calibration_value=calibration_value)\n",
    "\n",
    "# Connect to the Neo4j database\n",
    "with GraphDatabase.driver(uri, auth=(username, password)) as driver:\n",
    "    # Iterate through the list and create nodes\n",
    "    for index, value in enumerate(listOfCalibrationValues):\n",
    "        # Use a transaction to create each node\n",
    "        with driver.session() as session:\n",
    "            session.write_transaction(create_node, str(index), value)"
   ]
  },
  {
   "cell_type": "code",
   "execution_count": 3,
   "id": "85d5dabe",
   "metadata": {},
   "outputs": [],
   "source": [
    "ints = [(\"one\",1), (\"two\",2), (\"three\",3), (\"four\",4), (\"five\",5), (\"six\",6), (\"seven\",7), (\"eight\",8),(\"nine\",9)]\n",
    "\n",
    "query_num = \"CREATE (:number {name: $nodeName, nodeValue: $nodeValue})\"\n",
    "\n",
    "#add each int as a node \n",
    "with GraphDatabase.driver(uri, auth=(username, password)) as driver:\n",
    "    # Use a transaction to execute the query\n",
    "    for i in ints:\n",
    "        with driver.session() as session:\n",
    "            session.run(query_num, nodeName=i[0], nodeValue=i[1])\n",
    "        \n"
   ]
  },
  {
   "cell_type": "code",
   "execution_count": 4,
   "id": "d28041eb",
   "metadata": {},
   "outputs": [],
   "source": [
    "def findOccurrences(s, ch): \n",
    "    indexes = [x.start() for x in re.finditer(ch, s)]\n",
    "    return indexes\n",
    "\n",
    "\n",
    "def get_num_in_words(num):\n",
    "    for i in ints:\n",
    "        if i[1] == num:\n",
    "            return i[0]\n",
    "\n",
    "def add_relationships (line, number, position):\n",
    "    \n",
    "    query_num = \"\"\"\n",
    "    MATCH (p:line {calibration_value: $nodeLine})\n",
    "    MATCH (c:number {name: $nodeNumber})\n",
    "    CREATE (p)-[:CONTAINS  {position:$position}]->(c)\n",
    "    \"\"\"\n",
    "\n",
    "    #add each int as a node \n",
    "    with GraphDatabase.driver(uri, auth=(username, password)) as driver:\n",
    "        with driver.session() as session:\n",
    "            \n",
    "            print (\"Adding CONTAINS from \",line,\"to\",number)\n",
    "            session.run(query_num, nodeLine=line, nodeNumber=number, position=position)\n",
    "            \n",
    "\n",
    "# link up each line to the first and last numbers on it\n",
    "def get_all_numbers(cal_val):\n",
    "    # loop through each int and get each of its positions in the string\n",
    "    all_numbers = []\n",
    "    for i in ints:\n",
    "        all_ints = findOccurrences(cal_val,str(i[1]))\n",
    "        for j in all_ints:            \n",
    "            all_numbers.append((j,i[1]))\n",
    "        \n",
    "        #repeat for the strings\n",
    "        all_ints = findOccurrences(cal_val,i[0])\n",
    "        for j in all_ints:            \n",
    "            all_numbers.append((j,i[1]))\n",
    "    \n",
    "    # Put the results into a list where the position is first and the int is second\n",
    "    return (all_numbers)\n",
    "\n",
    "def get_first_last(st):\n",
    "    \n",
    "    all_nums_from_line = get_all_numbers(st)\n",
    "    \n",
    "    #here add as a relationship\n",
    "    for j in all_nums_from_line:\n",
    "        add_relationships (st, get_num_in_words(j[1]), j[0])\n",
    "    \n",
    "    sorted_ls = sorted(all_nums_from_line, key=lambda x: x[0])\n",
    "    \n",
    "    if len(sorted_ls) == 0:\n",
    "        ret = 0\n",
    "    #elif len(sorted_ls) == 1:\n",
    "    #    ret = sorted_ls[0][1]\n",
    "    else:\n",
    "        ret = str(sorted_ls[0][1])+str(sorted_ls[-1][1])\n",
    "    \n",
    "    return int(ret)\n",
    "\n",
    "\n"
   ]
  },
  {
   "cell_type": "code",
   "execution_count": 26,
   "id": "3ac3c970",
   "metadata": {},
   "outputs": [
    {
     "name": "stdout",
     "output_type": "stream",
     "text": [
      "two1nine\n",
      "4.0\n",
      "eightwothree\n",
      "7.0\n",
      "abcone2threexyz\n",
      "37.0\n",
      "xtwone3four\n",
      "17.0\n",
      "4nineeightseven2\n",
      "15.0\n",
      "zoneight234\n",
      "110.0\n",
      "7pqrstsixteen\n",
      "6.0\n"
     ]
    },
    {
     "data": {
      "text/plain": [
       "196.0"
      ]
     },
     "execution_count": 26,
     "metadata": {},
     "output_type": "execute_result"
    }
   ],
   "source": [
    "#the following just returns the positions and instead should return the numbers that that node\n",
    "#is related to for that position...i.e. follow the relationship with that position\n",
    "#not going to take this further for now as although it is achievable it feels like we are\n",
    "#only using neo4j for the min and max position. But then, it is just a database\n",
    "\n",
    "query = \"\"\"\n",
    "MATCH (n {calibration_value: $nodeName})-[r]->()\n",
    "WITH r.position AS position\n",
    "ORDER BY position\n",
    "RETURN toFloat(toString(min(position))+toString(max(position))) as max_pos\n",
    "\"\"\"\n",
    "total = 0\n",
    "with GraphDatabase.driver(uri, auth=(username, password)) as driver:\n",
    "    with driver.session() as session:\n",
    "\n",
    "        for i in listOfCalibrationValues:\n",
    "            print (i)\n",
    "            ret = session.run(query,nodeName=i)\n",
    "            for i in ret:                \n",
    "                for j in i:\n",
    "                    print (j)\n",
    "                    total +=j\n",
    "                \n",
    "total"
   ]
  },
  {
   "cell_type": "code",
   "execution_count": 21,
   "id": "f0c9c549",
   "metadata": {},
   "outputs": [],
   "source": [
    "for i in ret:\n",
    "    print (i)"
   ]
  },
  {
   "cell_type": "code",
   "execution_count": null,
   "id": "42fc04db",
   "metadata": {},
   "outputs": [],
   "source": [
    "sum(list(map(get_first_last, listOfCalibrationValues)))"
   ]
  }
 ],
 "metadata": {
  "kernelspec": {
   "display_name": "Python 3 (ipykernel)",
   "language": "python",
   "name": "python3"
  },
  "language_info": {
   "codemirror_mode": {
    "name": "ipython",
    "version": 3
   },
   "file_extension": ".py",
   "mimetype": "text/x-python",
   "name": "python",
   "nbconvert_exporter": "python",
   "pygments_lexer": "ipython3",
   "version": "3.11.5"
  }
 },
 "nbformat": 4,
 "nbformat_minor": 5
}
