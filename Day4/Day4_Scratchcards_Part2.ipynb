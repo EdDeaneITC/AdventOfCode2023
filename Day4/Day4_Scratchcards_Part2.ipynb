{
 "cells": [
  {
   "cell_type": "code",
   "execution_count": 67,
   "id": "91f4cb75",
   "metadata": {},
   "outputs": [
    {
     "name": "stdout",
     "output_type": "stream",
     "text": [
      "Card 1  41 48 83 86 17 | 83 86  6 31 17  9 48 53\n",
      "Card 2  13 32 20 16 61 | 61 30 68 82 17 32 24 19\n",
      "Card 3   1 21 53 59 44 | 69 82 63 72 16 21 14  1\n",
      "Card 4  41 92 73 84 69 | 59 84 76 51 58  5 54 83\n",
      "Card 5  87 83 26 28 32 | 88 30 70 12 93 22 82 36\n",
      "Card 6  31 18 13 56 72 | 74 77 10 23 35 67 36 11\n"
     ]
    }
   ],
   "source": [
    "advent = \"Day4\"\n",
    "workdir = 'C:\\\\Users\\\\ed.deane\\\\OneDrive - Sabio Ltd\\\\Documents\\\\Customers\\\\IKEA\\\\Knowledge\\\\Python\\\\AdventOfCode\\\\2023\\\\'\n",
    "\n",
    "winning_numbers = []\n",
    "my_numbers = []\n",
    "card_multiplier = []\n",
    "f = open(workdir+advent+\"\\\\test_input_1.txt\", \"r\")\n",
    "for line in f:\n",
    "    card,all_nums = line.strip().split(':')\n",
    "    print (card, all_nums)\n",
    "    winning_numbers.append((card,all_nums.split('|')[0].split()))\n",
    "    my_numbers.append((card,all_nums.split('|')[1].split()))\n",
    "    card_multiplier.append((card,1))\n",
    "    \n",
    "def in_winning_nums(card,num):\n",
    "    ret = False\n",
    "    for k in winning_numbers:\n",
    "        if (k[0] == card):\n",
    "            if num in k[1]:\n",
    "                ret = True\n",
    "    return ret\n",
    "\n",
    "def increment_card_multipliers(card,cnt):\n",
    "    for idx, item in enumerate(card_multiplier):\n",
    "        #find the card in the list of multipliers \n",
    "        if (item[0] == card):\n",
    "            print (idx,item)\n",
    "            #loop by the original card multplier\n",
    "            for m in range(item[1]):\n",
    "                for l in range(idx+1,min(idx+cnt+1,len(card_multiplier))):\n",
    "                    #increment the next n up until the end of the list\n",
    "                    print ('Increment index', l, card_multiplier[l])\n",
    "                    card_multiplier[l] = (card_multiplier[l][0],card_multiplier[l][1]+1)\n",
    "            return\n"
   ]
  },
  {
   "cell_type": "code",
   "execution_count": 68,
   "id": "7c65195f",
   "metadata": {},
   "outputs": [
    {
     "name": "stdout",
     "output_type": "stream",
     "text": [
      "Incrementing Card 1 4\n",
      "0 ('Card 1', 1)\n",
      "Increment index 1 ('Card 2', 1)\n",
      "Increment index 2 ('Card 3', 1)\n",
      "Increment index 3 ('Card 4', 1)\n",
      "Increment index 4 ('Card 5', 1)\n",
      "Incrementing Card 2 2\n",
      "1 ('Card 2', 2)\n",
      "Increment index 2 ('Card 3', 2)\n",
      "Increment index 3 ('Card 4', 2)\n",
      "Increment index 2 ('Card 3', 3)\n",
      "Increment index 3 ('Card 4', 3)\n",
      "Incrementing Card 3 2\n",
      "2 ('Card 3', 4)\n",
      "Increment index 3 ('Card 4', 4)\n",
      "Increment index 4 ('Card 5', 2)\n",
      "Increment index 3 ('Card 4', 5)\n",
      "Increment index 4 ('Card 5', 3)\n",
      "Increment index 3 ('Card 4', 6)\n",
      "Increment index 4 ('Card 5', 4)\n",
      "Increment index 3 ('Card 4', 7)\n",
      "Increment index 4 ('Card 5', 5)\n",
      "Incrementing Card 4 1\n",
      "3 ('Card 4', 8)\n",
      "Increment index 4 ('Card 5', 6)\n",
      "Increment index 4 ('Card 5', 7)\n",
      "Increment index 4 ('Card 5', 8)\n",
      "Increment index 4 ('Card 5', 9)\n",
      "Increment index 4 ('Card 5', 10)\n",
      "Increment index 4 ('Card 5', 11)\n",
      "Increment index 4 ('Card 5', 12)\n",
      "Increment index 4 ('Card 5', 13)\n"
     ]
    },
    {
     "data": {
      "text/plain": [
       "[('Card 1', 1),\n",
       " ('Card 2', 2),\n",
       " ('Card 3', 4),\n",
       " ('Card 4', 8),\n",
       " ('Card 5', 14),\n",
       " ('Card 6', 1)]"
      ]
     },
     "execution_count": 68,
     "metadata": {},
     "output_type": "execute_result"
    }
   ],
   "source": [
    "total_match = 0    \n",
    "for i in my_numbers:\n",
    "    card_match = 0\n",
    "    #loop through the numbers of that card and total the number matches\n",
    "    for j in (i[1]):\n",
    "        if in_winning_nums(i[0],j):\n",
    "            card_match +=1\n",
    "        #if there are any matches\n",
    "    if card_match > 0:\n",
    "        #increment the next n card multipliers\n",
    "        print (\"Incrementing\",i[0],card_match)\n",
    "        increment_card_multipliers(i[0],card_match)\n",
    "        \n",
    "card_multiplier "
   ]
  },
  {
   "cell_type": "code",
   "execution_count": 56,
   "id": "3963ed10",
   "metadata": {},
   "outputs": [
    {
     "name": "stdout",
     "output_type": "stream",
     "text": [
      "4 ('Card 5', 4)\n",
      "Increment index 5 ('Card 6', 1)\n",
      "Increment index 5 ('Card 6', 2)\n",
      "Increment index 5 ('Card 6', 3)\n",
      "Increment index 5 ('Card 6', 4)\n"
     ]
    }
   ],
   "source": [
    "def increment_card_multipliers(card,cnt):\n",
    "    for idx, item in enumerate(card_multiplier):\n",
    "        #find the card in the list of multipliers \n",
    "        if (item[0] == card):\n",
    "            print (idx,item)\n",
    "            #loop by the original card multplier\n",
    "            for m in range(item[1]):\n",
    "                for l in range(idx+1,min(idx+cnt+1,len(card_multiplier))):\n",
    "                    #increment the next n up until the end of the list\n",
    "                    print ('Increment index', l, card_multiplier[l])\n",
    "                    card_multiplier[l] = (card_multiplier[l][0],card_multiplier[l][1]+1)\n",
    "            return\n",
    "increment_card_multipliers('Card 5',2)"
   ]
  },
  {
   "cell_type": "code",
   "execution_count": 69,
   "id": "14ecaf51",
   "metadata": {},
   "outputs": [
    {
     "data": {
      "text/plain": [
       "30"
      ]
     },
     "execution_count": 69,
     "metadata": {},
     "output_type": "execute_result"
    }
   ],
   "source": [
    "sum(n for _, n in card_multiplier)\n"
   ]
  }
 ],
 "metadata": {
  "kernelspec": {
   "display_name": "Python 3 (ipykernel)",
   "language": "python",
   "name": "python3"
  },
  "language_info": {
   "codemirror_mode": {
    "name": "ipython",
    "version": 3
   },
   "file_extension": ".py",
   "mimetype": "text/x-python",
   "name": "python",
   "nbconvert_exporter": "python",
   "pygments_lexer": "ipython3",
   "version": "3.11.5"
  }
 },
 "nbformat": 4,
 "nbformat_minor": 5
}
